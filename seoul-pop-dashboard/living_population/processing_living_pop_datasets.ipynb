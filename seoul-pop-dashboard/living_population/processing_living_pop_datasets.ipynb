{
 "cells": [
  {
   "cell_type": "markdown",
   "metadata": {},
   "source": [
    "## Processing the Seoul living population dataset\n",
    "\n",
    "In this notebook, I processed the living population dataset in the seoul open data portal for the data dashboard (index.html). As a result of the notebook, a csv file which contained the average of living populations of each administrative neighborhood (행정동) was created."
   ]
  },
  {
   "cell_type": "code",
   "execution_count": 1,
   "metadata": {},
   "outputs": [],
   "source": [
    "import numpy as np\n",
    "import pandas as pd"
   ]
  },
  {
   "cell_type": "code",
   "execution_count": 2,
   "metadata": {},
   "outputs": [],
   "source": [
    "import os"
   ]
  },
  {
   "cell_type": "code",
   "execution_count": 3,
   "metadata": {},
   "outputs": [],
   "source": [
    "dataset_address = os.listdir('data by month')"
   ]
  },
  {
   "cell_type": "code",
   "execution_count": 4,
   "metadata": {},
   "outputs": [
    {
     "name": "stderr",
     "output_type": "stream",
     "text": [
      "C:\\Users\\hsg82\\AppData\\Local\\Continuum\\anaconda3\\envs\\data_basic\\lib\\site-packages\\IPython\\core\\interactiveshell.py:3058: DtypeWarning: Columns (0) have mixed types. Specify dtype option on import or set low_memory=False.\n",
      "  interactivity=interactivity, compiler=compiler, result=result)\n"
     ]
    }
   ],
   "source": [
    "dataset_dict = {}\n",
    "for d in dataset_address:\n",
    "    month = d.replace('.csv','')\n",
    "    target_ = 'data by month/'+d\n",
    "    dataset_dict[month] = pd.read_csv(target_)"
   ]
  },
  {
   "cell_type": "code",
   "execution_count": 5,
   "metadata": {},
   "outputs": [],
   "source": [
    "def processing_(month, month_dataset):\n",
    "    df = month_dataset.copy() \n",
    "    df = df.groupby(['행정동코드', '시간대구분'],as_index=False).mean()\n",
    "    male = df.columns.tolist()[4:18]\n",
    "    female = df.columns.tolist()[18:]\n",
    "    \n",
    "    df['male'] = df[male].sum(axis=1)\n",
    "    df['female'] = df[female].sum(axis=1)\n",
    "    \n",
    "    df = df.rename(columns={'행정동코드':'adm_code',\n",
    "                            '시간대구분':'time',\n",
    "                            '총생활인구수':'total'})\n",
    "    \n",
    "    df = df[['adm_code','time','total','male','female']]\n",
    "    df = df.astype('int32')\n",
    "    df = df.pivot(index='adm_code', columns='time',values=['total','male','female'])\n",
    "    columns = []\n",
    "    \n",
    "    for p in df.columns.levels[0]:\n",
    "        for i in df.columns.levels[1]:\n",
    "            columns.append(p+'_'+month+'_'+str(i))\n",
    "            \n",
    "    df.columns = columns\n",
    "    df['total_'+month+'_avg']=df[df.columns[:24]].mean(axis=1)\n",
    "    df['male_'+month+'_avg']=df[df.columns[24:48]].mean(axis=1)\n",
    "    df['female_'+month+'_avg']=df[df.columns[48:72]].mean(axis=1)\n",
    "    return df"
   ]
  },
  {
   "cell_type": "code",
   "execution_count": 6,
   "metadata": {},
   "outputs": [
    {
     "name": "stdout",
     "output_type": "stream",
     "text": [
      "Apr\n",
      "Aug\n",
      "Dec\n",
      "Feb\n",
      "Jan\n",
      "Jul\n",
      "Jun\n",
      "Mar\n",
      "May\n",
      "Nov\n",
      "Oct\n",
      "Sept\n"
     ]
    }
   ],
   "source": [
    "for d in dataset_dict.keys():\n",
    "    print(d)\n",
    "    dataset_dict[d] = processing_(d,dataset_dict[d]) "
   ]
  },
  {
   "cell_type": "code",
   "execution_count": 7,
   "metadata": {},
   "outputs": [],
   "source": [
    "living_pop = pd.concat([dataset_dict[d] for d in dataset_dict.keys()],axis=1)"
   ]
  },
  {
   "cell_type": "code",
   "execution_count": 8,
   "metadata": {},
   "outputs": [
    {
     "data": {
      "text/html": [
       "<div>\n",
       "<style scoped>\n",
       "    .dataframe tbody tr th:only-of-type {\n",
       "        vertical-align: middle;\n",
       "    }\n",
       "\n",
       "    .dataframe tbody tr th {\n",
       "        vertical-align: top;\n",
       "    }\n",
       "\n",
       "    .dataframe thead th {\n",
       "        text-align: right;\n",
       "    }\n",
       "</style>\n",
       "<table border=\"1\" class=\"dataframe\">\n",
       "  <thead>\n",
       "    <tr style=\"text-align: right;\">\n",
       "      <th></th>\n",
       "      <th>total_Apr_0</th>\n",
       "      <th>total_Apr_1</th>\n",
       "      <th>total_Apr_2</th>\n",
       "      <th>total_Apr_3</th>\n",
       "      <th>total_Apr_4</th>\n",
       "      <th>total_Apr_5</th>\n",
       "      <th>total_Apr_6</th>\n",
       "      <th>total_Apr_7</th>\n",
       "      <th>total_Apr_8</th>\n",
       "      <th>total_Apr_9</th>\n",
       "      <th>...</th>\n",
       "      <th>female_Sept_17</th>\n",
       "      <th>female_Sept_18</th>\n",
       "      <th>female_Sept_19</th>\n",
       "      <th>female_Sept_20</th>\n",
       "      <th>female_Sept_21</th>\n",
       "      <th>female_Sept_22</th>\n",
       "      <th>female_Sept_23</th>\n",
       "      <th>total_Sept_avg</th>\n",
       "      <th>male_Sept_avg</th>\n",
       "      <th>female_Sept_avg</th>\n",
       "    </tr>\n",
       "    <tr>\n",
       "      <th>adm_code</th>\n",
       "      <th></th>\n",
       "      <th></th>\n",
       "      <th></th>\n",
       "      <th></th>\n",
       "      <th></th>\n",
       "      <th></th>\n",
       "      <th></th>\n",
       "      <th></th>\n",
       "      <th></th>\n",
       "      <th></th>\n",
       "      <th></th>\n",
       "      <th></th>\n",
       "      <th></th>\n",
       "      <th></th>\n",
       "      <th></th>\n",
       "      <th></th>\n",
       "      <th></th>\n",
       "      <th></th>\n",
       "      <th></th>\n",
       "      <th></th>\n",
       "      <th></th>\n",
       "    </tr>\n",
       "  </thead>\n",
       "  <tbody>\n",
       "    <tr>\n",
       "      <th>11110515</th>\n",
       "      <td>15268</td>\n",
       "      <td>15310</td>\n",
       "      <td>15303</td>\n",
       "      <td>15300</td>\n",
       "      <td>15474</td>\n",
       "      <td>15579</td>\n",
       "      <td>16285</td>\n",
       "      <td>18373</td>\n",
       "      <td>20585</td>\n",
       "      <td>21407</td>\n",
       "      <td>...</td>\n",
       "      <td>9239</td>\n",
       "      <td>8466</td>\n",
       "      <td>8302</td>\n",
       "      <td>8010</td>\n",
       "      <td>7594</td>\n",
       "      <td>7374</td>\n",
       "      <td>7653</td>\n",
       "      <td>16705.750000</td>\n",
       "      <td>7778.875000</td>\n",
       "      <td>8926.541667</td>\n",
       "    </tr>\n",
       "    <tr>\n",
       "      <th>11110530</th>\n",
       "      <td>21557</td>\n",
       "      <td>21028</td>\n",
       "      <td>20605</td>\n",
       "      <td>21748</td>\n",
       "      <td>22767</td>\n",
       "      <td>22054</td>\n",
       "      <td>24529</td>\n",
       "      <td>31030</td>\n",
       "      <td>42664</td>\n",
       "      <td>49153</td>\n",
       "      <td>...</td>\n",
       "      <td>22095</td>\n",
       "      <td>19834</td>\n",
       "      <td>17362</td>\n",
       "      <td>15250</td>\n",
       "      <td>12936</td>\n",
       "      <td>10708</td>\n",
       "      <td>8673</td>\n",
       "      <td>30634.083333</td>\n",
       "      <td>15099.166667</td>\n",
       "      <td>15534.333333</td>\n",
       "    </tr>\n",
       "    <tr>\n",
       "      <th>11110540</th>\n",
       "      <td>4643</td>\n",
       "      <td>4582</td>\n",
       "      <td>4628</td>\n",
       "      <td>4632</td>\n",
       "      <td>4658</td>\n",
       "      <td>4773</td>\n",
       "      <td>5161</td>\n",
       "      <td>6451</td>\n",
       "      <td>7760</td>\n",
       "      <td>9197</td>\n",
       "      <td>...</td>\n",
       "      <td>5082</td>\n",
       "      <td>4232</td>\n",
       "      <td>3679</td>\n",
       "      <td>3113</td>\n",
       "      <td>2576</td>\n",
       "      <td>2302</td>\n",
       "      <td>2412</td>\n",
       "      <td>7322.625000</td>\n",
       "      <td>3685.041667</td>\n",
       "      <td>3637.125000</td>\n",
       "    </tr>\n",
       "    <tr>\n",
       "      <th>11110550</th>\n",
       "      <td>14292</td>\n",
       "      <td>13985</td>\n",
       "      <td>13915</td>\n",
       "      <td>13874</td>\n",
       "      <td>13242</td>\n",
       "      <td>13302</td>\n",
       "      <td>13524</td>\n",
       "      <td>13965</td>\n",
       "      <td>14343</td>\n",
       "      <td>14536</td>\n",
       "      <td>...</td>\n",
       "      <td>7429</td>\n",
       "      <td>7364</td>\n",
       "      <td>7494</td>\n",
       "      <td>7643</td>\n",
       "      <td>7743</td>\n",
       "      <td>7877</td>\n",
       "      <td>7225</td>\n",
       "      <td>13677.541667</td>\n",
       "      <td>6080.000000</td>\n",
       "      <td>7597.041667</td>\n",
       "    </tr>\n",
       "    <tr>\n",
       "      <th>11110560</th>\n",
       "      <td>21776</td>\n",
       "      <td>22122</td>\n",
       "      <td>22421</td>\n",
       "      <td>22484</td>\n",
       "      <td>22887</td>\n",
       "      <td>23129</td>\n",
       "      <td>23092</td>\n",
       "      <td>22077</td>\n",
       "      <td>20993</td>\n",
       "      <td>20142</td>\n",
       "      <td>...</td>\n",
       "      <td>10074</td>\n",
       "      <td>9945</td>\n",
       "      <td>10108</td>\n",
       "      <td>10417</td>\n",
       "      <td>10819</td>\n",
       "      <td>11205</td>\n",
       "      <td>12665</td>\n",
       "      <td>20909.375000</td>\n",
       "      <td>9270.125000</td>\n",
       "      <td>11638.791667</td>\n",
       "    </tr>\n",
       "  </tbody>\n",
       "</table>\n",
       "<p>5 rows × 900 columns</p>\n",
       "</div>"
      ],
      "text/plain": [
       "          total_Apr_0  total_Apr_1  total_Apr_2  total_Apr_3  total_Apr_4  \\\n",
       "adm_code                                                                    \n",
       "11110515        15268        15310        15303        15300        15474   \n",
       "11110530        21557        21028        20605        21748        22767   \n",
       "11110540         4643         4582         4628         4632         4658   \n",
       "11110550        14292        13985        13915        13874        13242   \n",
       "11110560        21776        22122        22421        22484        22887   \n",
       "\n",
       "          total_Apr_5  total_Apr_6  total_Apr_7  total_Apr_8  total_Apr_9  \\\n",
       "adm_code                                                                    \n",
       "11110515        15579        16285        18373        20585        21407   \n",
       "11110530        22054        24529        31030        42664        49153   \n",
       "11110540         4773         5161         6451         7760         9197   \n",
       "11110550        13302        13524        13965        14343        14536   \n",
       "11110560        23129        23092        22077        20993        20142   \n",
       "\n",
       "          ...  female_Sept_17  female_Sept_18  female_Sept_19  female_Sept_20  \\\n",
       "adm_code  ...                                                                   \n",
       "11110515  ...            9239            8466            8302            8010   \n",
       "11110530  ...           22095           19834           17362           15250   \n",
       "11110540  ...            5082            4232            3679            3113   \n",
       "11110550  ...            7429            7364            7494            7643   \n",
       "11110560  ...           10074            9945           10108           10417   \n",
       "\n",
       "          female_Sept_21  female_Sept_22  female_Sept_23  total_Sept_avg  \\\n",
       "adm_code                                                                   \n",
       "11110515            7594            7374            7653    16705.750000   \n",
       "11110530           12936           10708            8673    30634.083333   \n",
       "11110540            2576            2302            2412     7322.625000   \n",
       "11110550            7743            7877            7225    13677.541667   \n",
       "11110560           10819           11205           12665    20909.375000   \n",
       "\n",
       "          male_Sept_avg  female_Sept_avg  \n",
       "adm_code                                  \n",
       "11110515    7778.875000      8926.541667  \n",
       "11110530   15099.166667     15534.333333  \n",
       "11110540    3685.041667      3637.125000  \n",
       "11110550    6080.000000      7597.041667  \n",
       "11110560    9270.125000     11638.791667  \n",
       "\n",
       "[5 rows x 900 columns]"
      ]
     },
     "execution_count": 8,
     "metadata": {},
     "output_type": "execute_result"
    }
   ],
   "source": [
    "living_pop.head()"
   ]
  },
  {
   "cell_type": "code",
   "execution_count": 9,
   "metadata": {},
   "outputs": [],
   "source": [
    "time_list = [t for t in range(24)]\n",
    "time_list.append('avg')\n",
    "test = {}\n",
    "for i in time_list:\n",
    "    in_ = str(i)\n",
    "    not_in = [str(s) for s in range(24) if s != i]\n",
    "    test[in_] = [k for k in living_pop.columns if in_ in k]\n",
    "    if in_.isdigit():\n",
    "        if i<10:\n",
    "            for n in not_in:\n",
    "                test[in_]  = [k for k in test[in_] if n not in k]"
   ]
  },
  {
   "cell_type": "code",
   "execution_count": 10,
   "metadata": {},
   "outputs": [],
   "source": [
    "for t in test.keys():\n",
    "    living_pop['total_'+'avg_'+t] =living_pop[[t for t in test[t] if 'total' in t]].mean(axis=1)\n",
    "    living_pop['male_'+'avg_'+t] =living_pop[[t for t in test[t] if 'male' in t]].mean(axis=1)\n",
    "    living_pop['female_'+'avg_'+t] =living_pop[[t for t in test[t] if 'female' in t]].mean(axis=1)"
   ]
  },
  {
   "cell_type": "code",
   "execution_count": 11,
   "metadata": {},
   "outputs": [],
   "source": [
    "living_pop['gu'] = living_pop.index // 1000"
   ]
  },
  {
   "cell_type": "code",
   "execution_count": 12,
   "metadata": {},
   "outputs": [],
   "source": [
    "total_columns = [c for c in living_pop.columns if 'total' in c]\n",
    "living_pop['max'] = living_pop[total_columns].max(axis=1)\n",
    "living_pop['min'] = living_pop[total_columns].min(axis=1)"
   ]
  },
  {
   "cell_type": "code",
   "execution_count": 13,
   "metadata": {},
   "outputs": [
    {
     "data": {
      "text/plain": [
       "adm_code\n",
       "11110515    13533.0\n",
       "11110530    14441.0\n",
       "11110540     4392.0\n",
       "11110550    11187.0\n",
       "11110560    16358.0\n",
       "             ...   \n",
       "11740650    23545.0\n",
       "11740660    25451.0\n",
       "11740685    44958.0\n",
       "11740690     4333.0\n",
       "11740700    25698.0\n",
       "Name: min, Length: 424, dtype: float64"
      ]
     },
     "execution_count": 13,
     "metadata": {},
     "output_type": "execute_result"
    }
   ],
   "source": [
    "living_pop['min'] "
   ]
  },
  {
   "cell_type": "code",
   "execution_count": 14,
   "metadata": {},
   "outputs": [],
   "source": [
    "coord = pd.read_csv('dong_coord.csv',index_col=0)\n",
    "coord = coord[['adm_cd2','lat','lng']]\n",
    "coord.adm_cd2 = coord.adm_cd2//100\n",
    "living_pop = living_pop.merge(coord,left_index=True, right_on='adm_cd2')\n",
    "living_pop = living_pop.set_index('adm_cd2')\n",
    "\n",
    "living_pop.to_csv('living_pop_neighborhood.csv')"
   ]
  },
  {
   "cell_type": "code",
   "execution_count": 25,
   "metadata": {},
   "outputs": [],
   "source": [
    "living_pop_total = living_pop.sum(axis=0)"
   ]
  },
  {
   "cell_type": "code",
   "execution_count": 26,
   "metadata": {},
   "outputs": [],
   "source": [
    "living_pop_total = living_pop_total.drop(['gu','lat','lng','max','min'])"
   ]
  },
  {
   "cell_type": "code",
   "execution_count": 27,
   "metadata": {},
   "outputs": [],
   "source": [
    "living_pop_total = pd.DataFrame(living_pop_total).rename(columns={0:'pop'})"
   ]
  },
  {
   "cell_type": "code",
   "execution_count": 29,
   "metadata": {},
   "outputs": [],
   "source": [
    "living_pop_total = living_pop_total.reset_index().rename(columns={'index':'month'})"
   ]
  },
  {
   "cell_type": "code",
   "execution_count": 35,
   "metadata": {},
   "outputs": [],
   "source": [
    "living_pop_total['time'] = living_pop_total['month'].str.split('_').apply(lambda x: x[-1])\n",
    "living_pop_total['type'] = living_pop_total['month'].str.split('_').apply(lambda x: x[0])\n",
    "living_pop_total['month'] = living_pop_total['month'].str.split('_').apply(lambda x: x[1])"
   ]
  },
  {
   "cell_type": "code",
   "execution_count": null,
   "metadata": {},
   "outputs": [],
   "source": []
  },
  {
   "cell_type": "code",
   "execution_count": 37,
   "metadata": {},
   "outputs": [],
   "source": [
    "living_pop_total.to_csv('living_population_total.csv',index=False)"
   ]
  }
 ],
 "metadata": {
  "kernelspec": {
   "display_name": "Python 3",
   "language": "python",
   "name": "python3"
  },
  "language_info": {
   "codemirror_mode": {
    "name": "ipython",
    "version": 3
   },
   "file_extension": ".py",
   "mimetype": "text/x-python",
   "name": "python",
   "nbconvert_exporter": "python",
   "pygments_lexer": "ipython3",
   "version": "3.7.5"
  }
 },
 "nbformat": 4,
 "nbformat_minor": 2
}
